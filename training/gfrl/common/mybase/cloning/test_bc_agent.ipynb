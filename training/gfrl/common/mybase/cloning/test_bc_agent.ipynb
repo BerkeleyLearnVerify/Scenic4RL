{
 "cells": [
  {
   "cell_type": "code",
   "execution_count": 1,
   "id": "7a189a87",
   "metadata": {},
   "outputs": [],
   "source": [
    "'''\n",
    "The code is used to train BC imitator, or pretrained GAIL imitator\n",
    "'''\n",
    "\n",
    "import argparse\n",
    "import tempfile\n",
    "import os.path as osp\n",
    "import gym\n",
    "import logging\n",
    "from tqdm import tqdm\n",
    "\n",
    "import tensorflow as tf\n",
    "\n",
    "from baselines.gail import mlp_policy\n",
    "from baselines import bench\n",
    "from baselines import logger\n",
    "from baselines.common import set_global_seeds, tf_util as U\n",
    "from baselines.common.misc_util import boolean_flag\n",
    "\n",
    "#from baselines.gail.run_mujoco import runner\n",
    "from baselines.gail.dataset.mujoco_dset import Mujoco_Dset \n",
    "\n",
    "##from baselines.common.mpi_adam import MpiAdam"
   ]
  },
  {
   "cell_type": "code",
   "execution_count": 2,
   "id": "7f3b1d04",
   "metadata": {},
   "outputs": [],
   "source": [
    "from gfrl.base.run_my_ppo2 import create_single_scenic_environment\n",
    "network = \"gfootball_impala_cnn\"\n",
    "\n",
    "#scenario = \"/home/ubuntu/ScenicGFootBall/training/gfrl/_scenarios/academy/pass_n_shoot.scenic\"\n",
    "\n",
    "#bc_load_path = \"/home/ubuntu/ScenicGFootBall/training/gfrl/_saved_models/pass_shoot_5M\"\n",
    "\n",
    "#bc_load_path = \"/home/ubuntu/logs_ppo_gfootball/clone_init_save\"\n",
    "#bc_load_path = \"/home/ubuntu/logs_ppo_gfootball/dev_44/checkpoints/bc_final_11322\"\n",
    "#bc_load_path = \"/home/ubuntu/ScenicGFootBall/training/gfrl/_res_bc/bc_pass_n_shoot_8/checkpoints/bc_00022\"\n",
    "#bc_load_path = \"/home/ubuntu/ScenicGFootBall/training/gfrl/_res_bc/bc_pass_n_shoot_10000_1/checkpoints/bc_00488\"\n",
    "\n",
    "#bc_load_path = \"/home/ubuntu/ScenicGFootBall/training/gfrl/_res_bc/bc_pass_n_shoot_10K_success_b512_epoch_10_0/checkpoints/test_best\"\n",
    "#bc_load_path = \"/home/ubuntu/ScenicGFootBall/training/gfrl/_res_bc/bc_pass_n_shoot_10K_success_b512_epoch_10_0/checkpoints/bc_00195\"\n",
    "\n",
    "#bc_load_path = \"/home/ubuntu/ScenicGFootBall/training/gfrl/_res_bc/bc_pass_n_shoot_RL_16k_b256_0/checkpoints/bc_00129\"\n",
    "\n",
    "scenario = \"/home/ubuntu/ScenicGFootBall/training/gfrl/_scenarios/sc4rl/fg_11v1.scenic\"\n",
    "#bc_load_path = \"/home/ubuntu/ScenicGFootBall/training/gfrl/_res_bc/bc_fg11v1_10K_rand1_success_1/checkpoints/bc_00078\"\n",
    "bc_load_path = \"/home/ubuntu/ScenicGFootBall/training/gfrl/_res_bc/bc_fg11v1_10K_success_1/checkpoints/bc_00078\"\n",
    "\n"
   ]
  },
  {
   "cell_type": "code",
   "execution_count": 3,
   "id": "7ab42a35",
   "metadata": {},
   "outputs": [
    {
     "name": "stderr",
     "output_type": "stream",
     "text": [
      "/home/ubuntu/.local/lib/python3.7/site-packages/scenic/core/errors.py:160: UserWarning: unable to install sys.excepthook to format Scenic backtraces\n",
      "  warnings.warn('unable to install sys.excepthook to format Scenic backtraces')\n"
     ]
    },
    {
     "name": "stdout",
     "output_type": "stream",
     "text": [
      "Scenic Environment:  /home/ubuntu/ScenicGFootBall/training/gfrl/_scenarios/sc4rl/fg_11v1.scenic\n",
      "pygame 2.0.1 (SDL 2.0.14, Python 3.7.10)\n",
      "Hello from the pygame community. https://www.pygame.org/contribute.html\n",
      "Logging to /tmp/openai-2021-04-28-22-17-17-143652\n"
     ]
    }
   ],
   "source": [
    "from gfrl.base.run_my_ppo2 import create_single_scenic_environment\n",
    "from baselines.common.vec_env.dummy_vec_env import DummyVecEnv\n",
    "vec_env = DummyVecEnv([lambda _i=i: \\\n",
    "                        create_single_scenic_environment(_i,scenario) for i in\n",
    "                        range(1)])"
   ]
  },
  {
   "cell_type": "code",
   "execution_count": 4,
   "id": "eaff7913",
   "metadata": {},
   "outputs": [
    {
     "name": "stdout",
     "output_type": "stream",
     "text": [
      "WARNING:tensorflow:From /home/ubuntu/.local/lib/python3.7/site-packages/baselines/common/misc_util.py:58: The name tf.set_random_seed is deprecated. Please use tf.compat.v1.set_random_seed instead.\n",
      "\n",
      "WARNING:tensorflow:From /home/ubuntu/.local/lib/python3.7/site-packages/baselines/common/tf_util.py:53: The name tf.get_default_session is deprecated. Please use tf.compat.v1.get_default_session instead.\n",
      "\n",
      "WARNING:tensorflow:From /home/ubuntu/.local/lib/python3.7/site-packages/baselines/common/tf_util.py:63: The name tf.ConfigProto is deprecated. Please use tf.compat.v1.ConfigProto instead.\n",
      "\n",
      "WARNING:tensorflow:From /home/ubuntu/.local/lib/python3.7/site-packages/baselines/common/tf_util.py:70: The name tf.InteractiveSession is deprecated. Please use tf.compat.v1.InteractiveSession instead.\n",
      "\n",
      "WARNING:tensorflow:From /home/ubuntu/.local/lib/python3.7/site-packages/baselines/ppo2/model.py:34: The name tf.variable_scope is deprecated. Please use tf.compat.v1.variable_scope instead.\n",
      "\n",
      "WARNING:tensorflow:From /home/ubuntu/.local/lib/python3.7/site-packages/baselines/ppo2/model.py:34: The name tf.AUTO_REUSE is deprecated. Please use tf.compat.v1.AUTO_REUSE instead.\n",
      "\n",
      "WARNING:tensorflow:From /home/ubuntu/.local/lib/python3.7/site-packages/baselines/common/input.py:31: The name tf.placeholder is deprecated. Please use tf.compat.v1.placeholder instead.\n",
      "\n",
      "WARNING:tensorflow:From /home/ubuntu/.local/lib/python3.7/site-packages/baselines/common/input.py:57: to_float (from tensorflow.python.ops.math_ops) is deprecated and will be removed in a future version.\n",
      "Instructions for updating:\n",
      "Use `tf.cast` instead.\n",
      "WARNING:tensorflow:From /home/ubuntu/.local/lib/python3.7/site-packages/sonnet/python/modules/conv.py:325: calling TruncatedNormal.__init__ (from tensorflow.python.ops.init_ops) with dtype is deprecated and will be removed in a future version.\n",
      "Instructions for updating:\n",
      "Call initializer instance with the dtype argument instead of passing it to the constructor\n",
      "WARNING:tensorflow:From /home/ubuntu/.local/lib/python3.7/site-packages/sonnet/python/modules/conv.py:330: calling Zeros.__init__ (from tensorflow.python.ops.init_ops) with dtype is deprecated and will be removed in a future version.\n",
      "Instructions for updating:\n",
      "Call initializer instance with the dtype argument instead of passing it to the constructor\n",
      "WARNING:tensorflow:From /home/ubuntu/.local/lib/python3.7/site-packages/baselines/common/policies.py:43: flatten (from tensorflow.python.layers.core) is deprecated and will be removed in a future version.\n",
      "Instructions for updating:\n",
      "Use keras.layers.flatten instead.\n",
      "WARNING:tensorflow:From /home/ubuntu/.local/lib/python3.7/site-packages/tensorflow_core/python/layers/core.py:332: Layer.apply (from tensorflow.python.keras.engine.base_layer) is deprecated and will be removed in a future version.\n",
      "Instructions for updating:\n",
      "Please use `layer.__call__` method instead.\n",
      "WARNING:tensorflow:From /home/ubuntu/.local/lib/python3.7/site-packages/baselines/a2c/utils.py:61: The name tf.get_variable is deprecated. Please use tf.compat.v1.get_variable instead.\n",
      "\n",
      "WARNING:tensorflow:From /home/ubuntu/.local/lib/python3.7/site-packages/baselines/common/distributions.py:200: The name tf.random_uniform is deprecated. Please use tf.random.uniform instead.\n",
      "\n",
      "WARNING:tensorflow:From /home/ubuntu/.local/lib/python3.7/site-packages/baselines/common/distributions.py:201: The name tf.log is deprecated. Please use tf.math.log instead.\n",
      "\n",
      "WARNING:tensorflow:From /home/ubuntu/.local/lib/python3.7/site-packages/baselines/ppo2/model.py:95: The name tf.trainable_variables is deprecated. Please use tf.compat.v1.trainable_variables instead.\n",
      "\n",
      "WARNING:tensorflow:From /home/ubuntu/.local/lib/python3.7/site-packages/baselines/ppo2/model.py:100: The name tf.train.AdamOptimizer is deprecated. Please use tf.compat.v1.train.AdamOptimizer instead.\n",
      "\n",
      "WARNING:tensorflow:From /home/ubuntu/.local/lib/python3.7/site-packages/tensorflow_core/python/ops/math_grad.py:1424: where (from tensorflow.python.ops.array_ops) is deprecated and will be removed in a future version.\n",
      "Instructions for updating:\n",
      "Use tf.where in 2.0, which has the same broadcast rule as np.where\n",
      "WARNING:tensorflow:From /home/ubuntu/.local/lib/python3.7/site-packages/baselines/common/tf_util.py:89: The name tf.global_variables is deprecated. Please use tf.compat.v1.global_variables instead.\n",
      "\n",
      "WARNING:tensorflow:From /home/ubuntu/.local/lib/python3.7/site-packages/baselines/common/tf_util.py:90: The name tf.variables_initializer is deprecated. Please use tf.compat.v1.variables_initializer instead.\n",
      "\n",
      "WARNING:tensorflow:From /home/ubuntu/.local/lib/python3.7/site-packages/baselines/ppo2/model.py:129: The name tf.get_collection is deprecated. Please use tf.compat.v1.get_collection instead.\n",
      "\n",
      "WARNING:tensorflow:From /home/ubuntu/.local/lib/python3.7/site-packages/baselines/ppo2/model.py:129: The name tf.GraphKeys is deprecated. Please use tf.compat.v1.GraphKeys instead.\n",
      "\n"
     ]
    }
   ],
   "source": [
    "from gfrl.common.mybase import ppo2\n",
    "network = \"gfootball_impala_cnn\"\n",
    "model = ppo2.learn(\n",
    "    network=network,\n",
    "    total_timesteps=0,\n",
    "    env=vec_env,\n",
    "    nsteps=512,\n",
    "    load_path=bc_load_path\n",
    "    )\n"
   ]
  },
  {
   "cell_type": "code",
   "execution_count": 5,
   "id": "6793db17",
   "metadata": {},
   "outputs": [
    {
     "name": "stdout",
     "output_type": "stream",
     "text": [
      "Scenic Environment:  /home/ubuntu/ScenicGFootBall/training/gfrl/_scenarios/sc4rl/fg_11v1.scenic\n",
      "in run\n"
     ]
    }
   ],
   "source": [
    "from gfrl.dm.my_runner import MyTrajRunner\n",
    "\n",
    "from baselines.common.vec_env.dummy_vec_env import DummyVecEnv\n",
    "vec_env = DummyVecEnv([lambda _i=i: \\\n",
    "                        create_single_scenic_environment(_i,scenario) for i in\n",
    "                        range(1)])\n",
    "\n",
    "runner = MyTrajRunner(env=vec_env, model=model, nsteps=512, num_episodes=100)\n",
    "mb_obs, mb_rewards, mb_dones, mb_actions, mb_values, mb_neglogpacs, mb_states, epinfos, mb_gt = runner.run()"
   ]
  },
  {
   "cell_type": "code",
   "execution_count": 6,
   "id": "772b4139",
   "metadata": {},
   "outputs": [
    {
     "name": "stdout",
     "output_type": "stream",
     "text": [
      "73.0\n"
     ]
    }
   ],
   "source": [
    "import numpy as np\n",
    "print(np.sum(mb_rewards))"
   ]
  },
  {
   "cell_type": "markdown",
   "id": "9ab13332",
   "metadata": {},
   "source": [
    "#Test Perf for Pass and Shoot\n",
    "\n",
    "Model: \"/home/ubuntu/ScenicGFootBall/training/gfrl/_res_bc/bc_pass_n_shoot_10K_success_b512_epoch_10_0/checkpoints/test_best\"\n",
    "\n",
    "Mean (out of 20) : -2    \n",
    "\n",
    "Model: \"/home/ubuntu/ScenicGFootBall/training/gfrl/_res_bc/bc_pass_n_shoot_10K_success_b512_epoch_10_0/checkpoints/bc_00195\"\n",
    "\n",
    "Mean (out of 20) : 1    \n",
    "\n",
    "Model: /home/ubuntu/ScenicGFootBall/training/gfrl/_res_bc/bc_pass_n_shoot_RL_16k_b256_0/checkpoints/bc_00129 \n",
    "Mean (out of 20) : 12"
   ]
  },
  {
   "cell_type": "code",
   "execution_count": 7,
   "id": "b13dd5da",
   "metadata": {},
   "outputs": [],
   "source": [
    "#scenario = \"/home/ubuntu/ScenicGFootBall/training/gfrl/_scenarios/sc4rl/fg_11v1.scenic\"\n",
    "\n",
    "#bc_load_path = \"/home/ubuntu/ScenicGFootBall/training/gfrl/_res_bc/bc_fg11v1_10K_rand1_success_1/checkpoints/bc_00078\"\n",
    "#out of 100 trials : Mean Reward 0.69\n",
    "#corresponding dataset mean: Policy Mean 0.64 (out of 143 episodes)\n",
    "\n",
    "#bc_load_path = \"/home/ubuntu/ScenicGFootBall/training/gfrl/_res_bc/bc_fg11v1_10K_success_1/checkpoints/bc_00078\"\n",
    "#out of 100 trials : Mean Reward 0.73\n",
    "#corresponding dataset mean: Policy Mean 0.65 (out of 145 episodes)\n"
   ]
  },
  {
   "cell_type": "code",
   "execution_count": null,
   "id": "978565d6",
   "metadata": {},
   "outputs": [],
   "source": []
  }
 ],
 "metadata": {
  "kernelspec": {
   "display_name": "Python 3",
   "language": "python",
   "name": "python3"
  },
  "language_info": {
   "codemirror_mode": {
    "name": "ipython",
    "version": 3
   },
   "file_extension": ".py",
   "mimetype": "text/x-python",
   "name": "python",
   "nbconvert_exporter": "python",
   "pygments_lexer": "ipython3",
   "version": "3.7.10"
  }
 },
 "nbformat": 4,
 "nbformat_minor": 5
}
