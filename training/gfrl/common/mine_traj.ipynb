{
 "cells": [
  {
   "cell_type": "code",
   "execution_count": 15,
   "id": "optimum-paint",
   "metadata": {
    "ExecuteTime": {
     "end_time": "2021-04-13T04:32:22.068784Z",
     "start_time": "2021-04-13T04:32:22.066055Z"
    }
   },
   "outputs": [],
   "source": [
    "import os\n",
    "from scenic.simulators.gfootball.rl_interface import GFScenicEnv\n",
    "from scenic.simulators.gfootball.utilities.scenic_helper import buildScenario\n",
    "import numpy as np\n",
    "\n"
   ]
  },
  {
   "cell_type": "code",
   "execution_count": 16,
   "id": "understood-decrease",
   "metadata": {
    "ExecuteTime": {
     "end_time": "2021-04-13T04:32:27.343117Z",
     "start_time": "2021-04-13T04:32:27.185440Z"
    }
   },
   "outputs": [],
   "source": [
    "gf_env_settings = {\n",
    "    \"stacked\": True,\n",
    "    \"rewards\": \"scoring,checkpoints\",\n",
    "    \"representation\": 'extracted',\n",
    "    \"players\": [f\"agent:left_players=1\"],\n",
    "    \"real_time\": True,\n",
    "    \"action_set\": \"default\",\n",
    "    \"dump_full_episodes\": True,\n",
    "    \"dump_scores\": True,\n",
    "    \"write_video\": True,\n",
    "    \"tracesdir\": \"mine\",\n",
    "    \"write_full_episode_dumps\": True,\n",
    "    \"write_goal_dumps\": True,\n",
    "    \"render\": False,\n",
    "}\n",
    "\n",
    "scenario_file = f\"{os.getcwd()}/../_scenarios/academy/rts_with_keeper.scenic\"\n",
    "\n",
    "scenario = buildScenario(scenario_file)\n",
    "env = GFScenicEnv(initial_scenario=scenario, gf_env_settings=gf_env_settings)\n",
    "\n"
   ]
  },
  {
   "cell_type": "code",
   "execution_count": 17,
   "id": "recorded-helen",
   "metadata": {
    "ExecuteTime": {
     "end_time": "2021-04-13T04:32:32.082956Z",
     "start_time": "2021-04-13T04:32:32.037078Z"
    }
   },
   "outputs": [],
   "source": [
    "rews = []\n",
    "trajs = []"
   ]
  },
  {
   "cell_type": "code",
   "execution_count": 18,
   "id": "effective-while",
   "metadata": {
    "ExecuteTime": {
     "end_time": "2021-04-13T04:34:30.023610Z",
     "start_time": "2021-04-13T04:32:42.944864Z"
    }
   },
   "outputs": [],
   "source": [
    "\n",
    "n_trials = 50\n",
    "\n",
    "\n",
    "for _ in range(n_trials):\n",
    "    done = False\n",
    "    tot_r = 0\n",
    "    o = env.reset()\n",
    "    states = []\n",
    "    states.append(env.simulation.last_raw_obs)\n",
    "    while not done:\n",
    "        action = env.action_space.sample()\n",
    "        o, r, done, _ = env.step(action)\n",
    "        tot_r += r\n",
    "        states.append(env.simulation.last_raw_obs)\n",
    "\n",
    "    rews.append(tot_r)\n",
    "    trajs.append(states)\n",
    "    \n",
    "\n",
    "\n"
   ]
  },
  {
   "cell_type": "code",
   "execution_count": 19,
   "id": "secondary-going",
   "metadata": {
    "ExecuteTime": {
     "end_time": "2021-04-13T04:34:45.004680Z",
     "start_time": "2021-04-13T04:34:44.999798Z"
    }
   },
   "outputs": [
    {
     "data": {
      "text/plain": [
       "50"
      ]
     },
     "execution_count": 19,
     "metadata": {},
     "output_type": "execute_result"
    }
   ],
   "source": [
    "len(rews)"
   ]
  },
  {
   "cell_type": "code",
   "execution_count": 20,
   "id": "acoustic-modeling",
   "metadata": {
    "ExecuteTime": {
     "end_time": "2021-04-13T04:34:47.436431Z",
     "start_time": "2021-04-13T04:34:47.431001Z"
    }
   },
   "outputs": [
    {
     "data": {
      "text/plain": [
       "(0.20000000298023224, 17)"
      ]
     },
     "execution_count": 20,
     "metadata": {},
     "output_type": "execute_result"
    }
   ],
   "source": [
    "np.max(rews), np.argmax(rews) \n"
   ]
  },
  {
   "cell_type": "code",
   "execution_count": 21,
   "id": "passing-assault",
   "metadata": {
    "ExecuteTime": {
     "end_time": "2021-04-13T04:34:53.838388Z",
     "start_time": "2021-04-13T04:34:53.832510Z"
    }
   },
   "outputs": [
    {
     "data": {
      "text/plain": [
       "(array([17, 19, 38]),)"
      ]
     },
     "execution_count": 21,
     "metadata": {},
     "output_type": "execute_result"
    }
   ],
   "source": [
    "np.where(np.array(rews)>0.15) #9,11,27"
   ]
  },
  {
   "cell_type": "code",
   "execution_count": 14,
   "id": "cathedral-small",
   "metadata": {
    "ExecuteTime": {
     "end_time": "2021-04-13T04:28:51.828802Z",
     "start_time": "2021-04-13T04:28:51.821975Z"
    }
   },
   "outputs": [
    {
     "data": {
      "text/plain": [
       "[{'left_team_yellow_card': array([False, False]),\n",
       "  'left_team_active': array([ True,  True]),\n",
       "  'ball_rotation': array([ 0., -0.,  0.]),\n",
       "  'steps_left': 201,\n",
       "  'ball': array([ 0.02      , -0.        ,  0.11061639]),\n",
       "  'right_team_tired_factor': array([0., 0., 0., 0., 0., 0.]),\n",
       "  'right_team_yellow_card': array([False, False, False, False, False, False]),\n",
       "  'game_mode': 0,\n",
       "  'right_team_roles': array([0, 2, 1, 5, 1, 3]),\n",
       "  'right_team_active': array([ True,  True,  True,  True,  True,  True]),\n",
       "  'left_team_tired_factor': array([0., 0.]),\n",
       "  'ball_owned_player': -1,\n",
       "  'left_team_direction': array([[ 0., -0.],\n",
       "         [ 0., -0.]]),\n",
       "  'score': [0, 0],\n",
       "  'ball_direction': array([ 0.        , -0.        ,  0.00616395]),\n",
       "  'left_team': array([[-0.99080884, -0.        ],\n",
       "         [ 0.        , -0.        ]]),\n",
       "  'left_team_roles': array([0, 1]),\n",
       "  'ball_owned_team': -1,\n",
       "  'right_team_direction': array([[-0.,  0.],\n",
       "         [-0.,  0.],\n",
       "         [-0.,  0.],\n",
       "         [-0.,  0.],\n",
       "         [-0.,  0.],\n",
       "         [-0.,  0.]]),\n",
       "  'right_team': array([[ 0.99080884,  0.        ],\n",
       "         [-0.12132353,  0.20325357],\n",
       "         [-0.12132353,  0.10162678],\n",
       "         [-0.12132353,  0.        ],\n",
       "         [-0.12132353, -0.10162678],\n",
       "         [-0.12132353, -0.20325357]]),\n",
       "  'designated': 0,\n",
       "  'active': 0,\n",
       "  'sticky_actions': array([0, 0, 0, 0, 0, 0, 0, 0, 0, 0], dtype=uint8)}]"
      ]
     },
     "execution_count": 14,
     "metadata": {},
     "output_type": "execute_result"
    }
   ],
   "source": [
    "\n",
    "trajs[9][0]"
   ]
  },
  {
   "cell_type": "code",
   "execution_count": null,
   "id": "danish-illness",
   "metadata": {},
   "outputs": [],
   "source": [
    "sel = 9 \n",
    "\n",
    "for states in trajs[sel]:\n",
    "    print()"
   ]
  }
 ],
 "metadata": {
  "kernelspec": {
   "display_name": "Python 3",
   "language": "python",
   "name": "python3"
  },
  "language_info": {
   "codemirror_mode": {
    "name": "ipython",
    "version": 3
   },
   "file_extension": ".py",
   "mimetype": "text/x-python",
   "name": "python",
   "nbconvert_exporter": "python",
   "pygments_lexer": "ipython3",
   "version": "3.9.1"
  },
  "varInspector": {
   "cols": {
    "lenName": 16,
    "lenType": 16,
    "lenVar": 40
   },
   "kernels_config": {
    "python": {
     "delete_cmd_postfix": "",
     "delete_cmd_prefix": "del ",
     "library": "var_list.py",
     "varRefreshCmd": "print(var_dic_list())"
    },
    "r": {
     "delete_cmd_postfix": ") ",
     "delete_cmd_prefix": "rm(",
     "library": "var_list.r",
     "varRefreshCmd": "cat(var_dic_list()) "
    }
   },
   "types_to_exclude": [
    "module",
    "function",
    "builtin_function_or_method",
    "instance",
    "_Feature"
   ],
   "window_display": false
  }
 },
 "nbformat": 4,
 "nbformat_minor": 5
}
